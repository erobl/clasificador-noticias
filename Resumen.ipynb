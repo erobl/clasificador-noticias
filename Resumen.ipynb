{
 "cells": [
  {
   "cell_type": "code",
   "execution_count": 1,
   "metadata": {},
   "outputs": [],
   "source": [
    "import pandas as pd\n",
    "import numpy as np\n",
    "import pymongo\n",
    "import matplotlib.pyplot as plt\n",
    "from bson.objectid import ObjectId\n",
    "import temas\n",
    "from jupyterthemes import jtplot\n",
    "jtplot.style()"
   ]
  },
  {
   "cell_type": "code",
   "execution_count": 2,
   "metadata": {},
   "outputs": [],
   "source": [
    "client = pymongo.MongoClient()\n",
    "db = client[\"mediaNet\"]\n",
    "collection = db[\"posts\"]"
   ]
  },
  {
   "cell_type": "code",
   "execution_count": 7,
   "metadata": {},
   "outputs": [],
   "source": [
    "doc = collection.find({})\n",
    "doc = ({\"id\": x[\"_id\"], \"fuente\": x[\"from\"][\"name\"], \"enlace\": x[\"link\"], \"titulo\": x[\"post_message\"] if \"post_message\" in x else \"\"} for x in doc)\n",
    "df = pd.DataFrame(doc)"
   ]
  },
  {
   "cell_type": "code",
   "execution_count": 8,
   "metadata": {},
   "outputs": [
    {
     "data": {
      "text/html": [
       "<div>\n",
       "<style scoped>\n",
       "    .dataframe tbody tr th:only-of-type {\n",
       "        vertical-align: middle;\n",
       "    }\n",
       "\n",
       "    .dataframe tbody tr th {\n",
       "        vertical-align: top;\n",
       "    }\n",
       "\n",
       "    .dataframe thead th {\n",
       "        text-align: right;\n",
       "    }\n",
       "</style>\n",
       "<table border=\"1\" class=\"dataframe\">\n",
       "  <thead>\n",
       "    <tr style=\"text-align: right;\">\n",
       "      <th></th>\n",
       "      <th>enlace</th>\n",
       "      <th>fuente</th>\n",
       "      <th>id</th>\n",
       "      <th>titulo</th>\n",
       "    </tr>\n",
       "  </thead>\n",
       "  <tbody>\n",
       "    <tr>\n",
       "      <th>0</th>\n",
       "      <td>https://trib.al/oNR9zKg</td>\n",
       "      <td>El Financiero</td>\n",
       "      <td>5bbe3ee35b49ed04284b130f</td>\n",
       "      <td>El Financiero shared a link.</td>\n",
       "    </tr>\n",
       "    <tr>\n",
       "      <th>1</th>\n",
       "      <td>https://trib.al/GlWa7Q7</td>\n",
       "      <td>El Financiero</td>\n",
       "      <td>5bbe3ee35b49ed04284b1311</td>\n",
       "      <td>Esto es lo que tiene que saber si quiere inver...</td>\n",
       "    </tr>\n",
       "    <tr>\n",
       "      <th>2</th>\n",
       "      <td>https://trib.al/oVD0BtV</td>\n",
       "      <td>El Financiero</td>\n",
       "      <td>5bbe3ee35b49ed04284b1312</td>\n",
       "      <td>Desarrolladores inmobiliarios le apuestan a la...</td>\n",
       "    </tr>\n",
       "    <tr>\n",
       "      <th>3</th>\n",
       "      <td>https://trib.al/ZzlUOhU</td>\n",
       "      <td>El Financiero</td>\n",
       "      <td>5bbe3ee45b49ed04284b1318</td>\n",
       "      <td>El Financiero shared a link.</td>\n",
       "    </tr>\n",
       "    <tr>\n",
       "      <th>4</th>\n",
       "      <td>https://trib.al/jlWqKQP</td>\n",
       "      <td>El Financiero</td>\n",
       "      <td>5bbe3ee45b49ed04284b1319</td>\n",
       "      <td>El Financiero shared a link.</td>\n",
       "    </tr>\n",
       "  </tbody>\n",
       "</table>\n",
       "</div>"
      ],
      "text/plain": [
       "                    enlace         fuente                        id  \\\n",
       "0  https://trib.al/oNR9zKg  El Financiero  5bbe3ee35b49ed04284b130f   \n",
       "1  https://trib.al/GlWa7Q7  El Financiero  5bbe3ee35b49ed04284b1311   \n",
       "2  https://trib.al/oVD0BtV  El Financiero  5bbe3ee35b49ed04284b1312   \n",
       "3  https://trib.al/ZzlUOhU  El Financiero  5bbe3ee45b49ed04284b1318   \n",
       "4  https://trib.al/jlWqKQP  El Financiero  5bbe3ee45b49ed04284b1319   \n",
       "\n",
       "                                              titulo  \n",
       "0                       El Financiero shared a link.  \n",
       "1  Esto es lo que tiene que saber si quiere inver...  \n",
       "2  Desarrolladores inmobiliarios le apuestan a la...  \n",
       "3                       El Financiero shared a link.  \n",
       "4                       El Financiero shared a link.  "
      ]
     },
     "execution_count": 8,
     "metadata": {},
     "output_type": "execute_result"
    }
   ],
   "source": [
    "df.head()"
   ]
  },
  {
   "cell_type": "code",
   "execution_count": 9,
   "metadata": {},
   "outputs": [],
   "source": [
    "df.to_csv(\"fuente.csv\")"
   ]
  },
  {
   "cell_type": "code",
   "execution_count": null,
   "metadata": {},
   "outputs": [],
   "source": []
  }
 ],
 "metadata": {
  "kernelspec": {
   "display_name": "Python 3",
   "language": "python",
   "name": "python3"
  },
  "language_info": {
   "codemirror_mode": {
    "name": "ipython",
    "version": 3
   },
   "file_extension": ".py",
   "mimetype": "text/x-python",
   "name": "python",
   "nbconvert_exporter": "python",
   "pygments_lexer": "ipython3",
   "version": "3.6.3"
  }
 },
 "nbformat": 4,
 "nbformat_minor": 2
}
