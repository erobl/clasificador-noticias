{
 "cells": [
  {
   "cell_type": "code",
   "execution_count": 1,
   "metadata": {},
   "outputs": [],
   "source": [
    "import pandas as pd\n",
    "import numpy as np\n",
    "import pymongo\n",
    "import matplotlib.pyplot as plt\n",
    "from bson.objectid import ObjectId\n",
    "import temas\n",
    "from jupyterthemes import jtplot\n",
    "jtplot.style()"
   ]
  },
  {
   "cell_type": "code",
   "execution_count": 2,
   "metadata": {},
   "outputs": [],
   "source": [
    "def tema_a_num(tema):\n",
    "    try:\n",
    "        return temas.temas_dic[tema.strip().lower()]\n",
    "    except:\n",
    "        print(\"Tema erróneo: %s\" % (tema,))\n",
    "        return None\n",
    "\n",
    "def temae_a_num(tema, i):\n",
    "    try:\n",
    "        return temas.temase_dics[i][tema.strip().lower()]\n",
    "    except:\n",
    "        # print(\"Tema erróneo: %s\" % (tema,))\n",
    "        return None"
   ]
  },
  {
   "cell_type": "code",
   "execution_count": 3,
   "metadata": {},
   "outputs": [],
   "source": [
    "client = pymongo.MongoClient()\n",
    "db = client[\"mediaNet\"]\n",
    "collection = db[\"posts\"]"
   ]
  },
  {
   "cell_type": "code",
   "execution_count": 4,
   "metadata": {},
   "outputs": [],
   "source": [
    "cod1 = pd.read_excel(\"experimento/Experimento_Codif_01.xlsx\")\n",
    "cod2 = pd.read_excel(\"experimento/Experimento_Codif_02.xlsx\")"
   ]
  },
  {
   "cell_type": "code",
   "execution_count": 5,
   "metadata": {},
   "outputs": [
    {
     "data": {
      "text/html": [
       "<div>\n",
       "<style scoped>\n",
       "    .dataframe tbody tr th:only-of-type {\n",
       "        vertical-align: middle;\n",
       "    }\n",
       "\n",
       "    .dataframe tbody tr th {\n",
       "        vertical-align: top;\n",
       "    }\n",
       "\n",
       "    .dataframe thead th {\n",
       "        text-align: right;\n",
       "    }\n",
       "</style>\n",
       "<table border=\"1\" class=\"dataframe\">\n",
       "  <thead>\n",
       "    <tr style=\"text-align: right;\">\n",
       "      <th></th>\n",
       "      <th>id</th>\n",
       "      <th>Texto en FB</th>\n",
       "      <th>Link</th>\n",
       "      <th>Tema General</th>\n",
       "      <th>Tema Específico</th>\n",
       "      <th>Corrección General</th>\n",
       "      <th>Corrección Específica</th>\n",
       "      <th>Unnamed: 7</th>\n",
       "    </tr>\n",
       "  </thead>\n",
       "  <tbody>\n",
       "    <tr>\n",
       "      <th>0</th>\n",
       "      <td>5c241a3926ad31868586c210</td>\n",
       "      <td>Merma en las lluvias hace que nivel del agua d...</td>\n",
       "      <td>https://trib.al/OJeExbg</td>\n",
       "      <td>ciencia y ambiente</td>\n",
       "      <td>ambiente</td>\n",
       "      <td>NaN</td>\n",
       "      <td>NaN</td>\n",
       "      <td>NaN</td>\n",
       "    </tr>\n",
       "    <tr>\n",
       "      <th>1</th>\n",
       "      <td>5c24a6f79e07a73612738226</td>\n",
       "      <td>Sern atendidos los fines de semana y en consul...</td>\n",
       "      <td>https://www.crhoy.com/nacionales/adelantaran-c...</td>\n",
       "      <td>política</td>\n",
       "      <td>huelga</td>\n",
       "      <td>asuntos sociales</td>\n",
       "      <td>salud</td>\n",
       "      <td>NaN</td>\n",
       "    </tr>\n",
       "    <tr>\n",
       "      <th>2</th>\n",
       "      <td>5c24ad589e07a736127ccc4e</td>\n",
       "      <td>Mandatario de Estados Unidos contact va telefn...</td>\n",
       "      <td>https://trib.al/HGSNxoZ</td>\n",
       "      <td>política</td>\n",
       "      <td>electorales</td>\n",
       "      <td>asuntos internacionales</td>\n",
       "      <td>EEUU</td>\n",
       "      <td>NaN</td>\n",
       "    </tr>\n",
       "    <tr>\n",
       "      <th>3</th>\n",
       "      <td>5bbe40665b49ed04284b9252</td>\n",
       "      <td>El accidente se dio esta madrugada</td>\n",
       "      <td>https://www.crhoy.com/nacionales/accidente-mul...</td>\n",
       "      <td>sucesos</td>\n",
       "      <td>accidente</td>\n",
       "      <td>NaN</td>\n",
       "      <td>NaN</td>\n",
       "      <td>NaN</td>\n",
       "    </tr>\n",
       "    <tr>\n",
       "      <th>4</th>\n",
       "      <td>5c24a4e79e07a7361270a607</td>\n",
       "      <td>Torre ha logrado enderezarse gracias al trabaj...</td>\n",
       "      <td>https://www.crhoy.com/mundo/celebre-torre-de-p...</td>\n",
       "      <td>asuntos sociales</td>\n",
       "      <td>salud</td>\n",
       "      <td>otros</td>\n",
       "      <td>curiosidades</td>\n",
       "      <td>NaN</td>\n",
       "    </tr>\n",
       "  </tbody>\n",
       "</table>\n",
       "</div>"
      ],
      "text/plain": [
       "                         id  \\\n",
       "0  5c241a3926ad31868586c210   \n",
       "1  5c24a6f79e07a73612738226   \n",
       "2  5c24ad589e07a736127ccc4e   \n",
       "3  5bbe40665b49ed04284b9252   \n",
       "4  5c24a4e79e07a7361270a607   \n",
       "\n",
       "                                         Texto en FB  \\\n",
       "0  Merma en las lluvias hace que nivel del agua d...   \n",
       "1  Sern atendidos los fines de semana y en consul...   \n",
       "2  Mandatario de Estados Unidos contact va telefn...   \n",
       "3                 El accidente se dio esta madrugada   \n",
       "4  Torre ha logrado enderezarse gracias al trabaj...   \n",
       "\n",
       "                                                Link        Tema General  \\\n",
       "0                            https://trib.al/OJeExbg  ciencia y ambiente   \n",
       "1  https://www.crhoy.com/nacionales/adelantaran-c...            política   \n",
       "2                            https://trib.al/HGSNxoZ            política   \n",
       "3  https://www.crhoy.com/nacionales/accidente-mul...             sucesos   \n",
       "4  https://www.crhoy.com/mundo/celebre-torre-de-p...    asuntos sociales   \n",
       "\n",
       "  Tema Específico       Corrección General Corrección Específica Unnamed: 7  \n",
       "0        ambiente                      NaN                   NaN        NaN  \n",
       "1          huelga      asuntos sociales                    salud        NaN  \n",
       "2     electorales  asuntos internacionales                  EEUU        NaN  \n",
       "3       accidente                      NaN                   NaN        NaN  \n",
       "4           salud                    otros          curiosidades        NaN  "
      ]
     },
     "execution_count": 5,
     "metadata": {},
     "output_type": "execute_result"
    }
   ],
   "source": [
    "cod1.head()"
   ]
  },
  {
   "cell_type": "code",
   "execution_count": 6,
   "metadata": {},
   "outputs": [
    {
     "data": {
      "text/html": [
       "<div>\n",
       "<style scoped>\n",
       "    .dataframe tbody tr th:only-of-type {\n",
       "        vertical-align: middle;\n",
       "    }\n",
       "\n",
       "    .dataframe tbody tr th {\n",
       "        vertical-align: top;\n",
       "    }\n",
       "\n",
       "    .dataframe thead th {\n",
       "        text-align: right;\n",
       "    }\n",
       "</style>\n",
       "<table border=\"1\" class=\"dataframe\">\n",
       "  <thead>\n",
       "    <tr style=\"text-align: right;\">\n",
       "      <th></th>\n",
       "      <th>id</th>\n",
       "      <th>Texto en FB</th>\n",
       "      <th>Link</th>\n",
       "      <th>Tema General</th>\n",
       "      <th>Tema Específico</th>\n",
       "      <th>Corrección General</th>\n",
       "      <th>Corrección Específica</th>\n",
       "    </tr>\n",
       "  </thead>\n",
       "  <tbody>\n",
       "    <tr>\n",
       "      <th>1</th>\n",
       "      <td>5c241a3926ad31868586c210</td>\n",
       "      <td>Merma en las lluvias hace que nivel del agua d...</td>\n",
       "      <td>https://trib.al/OJeExbg</td>\n",
       "      <td>ciencia y ambiente</td>\n",
       "      <td>ambiente</td>\n",
       "      <td>NaN</td>\n",
       "      <td>NaN</td>\n",
       "    </tr>\n",
       "    <tr>\n",
       "      <th>2</th>\n",
       "      <td>5c24a6f79e07a73612738226</td>\n",
       "      <td>Sern atendidos los fines de semana y en consul...</td>\n",
       "      <td>https://www.crhoy.com/nacionales/adelantaran-c...</td>\n",
       "      <td>política</td>\n",
       "      <td>huelga</td>\n",
       "      <td>Asuntos sociales</td>\n",
       "      <td>Salud</td>\n",
       "    </tr>\n",
       "    <tr>\n",
       "      <th>3</th>\n",
       "      <td>5c24ad589e07a736127ccc4e</td>\n",
       "      <td>Mandatario de Estados Unidos contact va telefn...</td>\n",
       "      <td>https://trib.al/HGSNxoZ</td>\n",
       "      <td>política</td>\n",
       "      <td>electorales</td>\n",
       "      <td>Asuntos internacionales</td>\n",
       "      <td>Estados Unidos</td>\n",
       "    </tr>\n",
       "    <tr>\n",
       "      <th>4</th>\n",
       "      <td>5bbe40665b49ed04284b9252</td>\n",
       "      <td>El accidente se dio esta madrugada</td>\n",
       "      <td>https://www.crhoy.com/nacionales/accidente-mul...</td>\n",
       "      <td>sucesos</td>\n",
       "      <td>accidente</td>\n",
       "      <td>NaN</td>\n",
       "      <td>NaN</td>\n",
       "    </tr>\n",
       "    <tr>\n",
       "      <th>5</th>\n",
       "      <td>5c24a4e79e07a7361270a607</td>\n",
       "      <td>Torre ha logrado enderezarse gracias al trabaj...</td>\n",
       "      <td>https://www.crhoy.com/mundo/celebre-torre-de-p...</td>\n",
       "      <td>asuntos sociales</td>\n",
       "      <td>salud</td>\n",
       "      <td>Otros</td>\n",
       "      <td>Curiosidades</td>\n",
       "    </tr>\n",
       "  </tbody>\n",
       "</table>\n",
       "</div>"
      ],
      "text/plain": [
       "                         id  \\\n",
       "1  5c241a3926ad31868586c210   \n",
       "2  5c24a6f79e07a73612738226   \n",
       "3  5c24ad589e07a736127ccc4e   \n",
       "4  5bbe40665b49ed04284b9252   \n",
       "5  5c24a4e79e07a7361270a607   \n",
       "\n",
       "                                         Texto en FB  \\\n",
       "1  Merma en las lluvias hace que nivel del agua d...   \n",
       "2  Sern atendidos los fines de semana y en consul...   \n",
       "3  Mandatario de Estados Unidos contact va telefn...   \n",
       "4                 El accidente se dio esta madrugada   \n",
       "5  Torre ha logrado enderezarse gracias al trabaj...   \n",
       "\n",
       "                                                Link        Tema General  \\\n",
       "1                            https://trib.al/OJeExbg  ciencia y ambiente   \n",
       "2  https://www.crhoy.com/nacionales/adelantaran-c...            política   \n",
       "3                            https://trib.al/HGSNxoZ            política   \n",
       "4  https://www.crhoy.com/nacionales/accidente-mul...             sucesos   \n",
       "5  https://www.crhoy.com/mundo/celebre-torre-de-p...    asuntos sociales   \n",
       "\n",
       "  Tema Específico       Corrección General Corrección Específica  \n",
       "1        ambiente                      NaN                   NaN  \n",
       "2          huelga         Asuntos sociales                 Salud  \n",
       "3     electorales  Asuntos internacionales        Estados Unidos  \n",
       "4       accidente                      NaN                   NaN  \n",
       "5           salud                    Otros          Curiosidades  "
      ]
     },
     "execution_count": 6,
     "metadata": {},
     "output_type": "execute_result"
    }
   ],
   "source": [
    "cod2.head()"
   ]
  },
  {
   "cell_type": "markdown",
   "metadata": {},
   "source": [
    "# Resultados de la primera evaluación"
   ]
  },
  {
   "cell_type": "code",
   "execution_count": 37,
   "metadata": {},
   "outputs": [
    {
     "name": "stdout",
     "output_type": "stream",
     "text": [
      "\tCantidad de error global:  171\n",
      "\tCantidad total:  400\n",
      "\tTasa de errores: 0.43\n"
     ]
    }
   ],
   "source": [
    "print(\"\\tCantidad de error global: \", sum(~cod1[\"Corrección General\"].isna() | ~cod1[\"Corrección Específica\"].isna()))\n",
    "print(\"\\tCantidad total: \", len(cod1))\n",
    "print(\"\\tTasa de errores: %.02f\" % (sum(~cod1[\"Corrección General\"].isna() | ~cod1[\"Corrección Específica\"].isna())/len(cod1)))"
   ]
  },
  {
   "cell_type": "code",
   "execution_count": 7,
   "metadata": {
    "scrolled": false
   },
   "outputs": [
    {
     "name": "stdout",
     "output_type": "stream",
     "text": [
      "\tCantidad de errores:  110\n",
      "\tCantidad total:  400\n",
      "\tTasa de errores: 0.28\n"
     ]
    }
   ],
   "source": [
    "print(\"\\tCantidad de errores: \", sum(~cod1[\"Corrección General\"].isna()))\n",
    "print(\"\\tCantidad total: \", len(cod1))\n",
    "print(\"\\tTasa de errores: %.02f\" % (sum(~cod1[\"Corrección General\"].isna())/len(cod1)))"
   ]
  },
  {
   "cell_type": "code",
   "execution_count": 8,
   "metadata": {},
   "outputs": [
    {
     "data": {
      "text/html": [
       "<div>\n",
       "<style scoped>\n",
       "    .dataframe tbody tr th:only-of-type {\n",
       "        vertical-align: middle;\n",
       "    }\n",
       "\n",
       "    .dataframe tbody tr th {\n",
       "        vertical-align: top;\n",
       "    }\n",
       "\n",
       "    .dataframe thead th {\n",
       "        text-align: right;\n",
       "    }\n",
       "</style>\n",
       "<table border=\"1\" class=\"dataframe\">\n",
       "  <thead>\n",
       "    <tr style=\"text-align: right;\">\n",
       "      <th></th>\n",
       "      <th>gp</th>\n",
       "      <th>id</th>\n",
       "      <th>sp</th>\n",
       "    </tr>\n",
       "  </thead>\n",
       "  <tbody>\n",
       "    <tr>\n",
       "      <th>0</th>\n",
       "      <td>0.981696</td>\n",
       "      <td>5c241a3926ad31868586c210</td>\n",
       "      <td>0.444283</td>\n",
       "    </tr>\n",
       "    <tr>\n",
       "      <th>1</th>\n",
       "      <td>0.323443</td>\n",
       "      <td>5c24a6f79e07a73612738226</td>\n",
       "      <td>0.699020</td>\n",
       "    </tr>\n",
       "    <tr>\n",
       "      <th>2</th>\n",
       "      <td>0.724155</td>\n",
       "      <td>5c24ad589e07a736127ccc4e</td>\n",
       "      <td>0.399651</td>\n",
       "    </tr>\n",
       "    <tr>\n",
       "      <th>3</th>\n",
       "      <td>0.997149</td>\n",
       "      <td>5bbe40665b49ed04284b9252</td>\n",
       "      <td>0.775587</td>\n",
       "    </tr>\n",
       "    <tr>\n",
       "      <th>4</th>\n",
       "      <td>0.088606</td>\n",
       "      <td>5c24a4e79e07a7361270a607</td>\n",
       "      <td>0.316029</td>\n",
       "    </tr>\n",
       "  </tbody>\n",
       "</table>\n",
       "</div>"
      ],
      "text/plain": [
       "         gp                        id        sp\n",
       "0  0.981696  5c241a3926ad31868586c210  0.444283\n",
       "1  0.323443  5c24a6f79e07a73612738226  0.699020\n",
       "2  0.724155  5c24ad589e07a736127ccc4e  0.399651\n",
       "3  0.997149  5bbe40665b49ed04284b9252  0.775587\n",
       "4  0.088606  5c24a4e79e07a7361270a607  0.316029"
      ]
     },
     "execution_count": 8,
     "metadata": {},
     "output_type": "execute_result"
    }
   ],
   "source": [
    "lod = []\n",
    "for id in cod1[\"id\"]:\n",
    "    doc = collection.find_one({\"_id\": ObjectId(id)})\n",
    "    ac = doc[\"autoclassification\"]\n",
    "    lod.append({\"id\": id, \"gp\": ac[\"general_proba\"][ac[\"general_prediction\"]], \"sp\": ac[\"specific_proba\"][ac[\"specific_prediction\"]]})\n",
    "\n",
    "tbl1 = pd.DataFrame(lod)\n",
    "tbl1.head()"
   ]
  },
  {
   "cell_type": "code",
   "execution_count": 9,
   "metadata": {},
   "outputs": [
    {
     "data": {
      "text/html": [
       "<div>\n",
       "<style scoped>\n",
       "    .dataframe tbody tr th:only-of-type {\n",
       "        vertical-align: middle;\n",
       "    }\n",
       "\n",
       "    .dataframe tbody tr th {\n",
       "        vertical-align: top;\n",
       "    }\n",
       "\n",
       "    .dataframe thead th {\n",
       "        text-align: right;\n",
       "    }\n",
       "</style>\n",
       "<table border=\"1\" class=\"dataframe\">\n",
       "  <thead>\n",
       "    <tr style=\"text-align: right;\">\n",
       "      <th></th>\n",
       "      <th>id</th>\n",
       "      <th>Texto en FB</th>\n",
       "      <th>Link</th>\n",
       "      <th>Tema General</th>\n",
       "      <th>Tema Específico</th>\n",
       "      <th>Corrección General</th>\n",
       "      <th>Corrección Específica</th>\n",
       "      <th>Unnamed: 7</th>\n",
       "      <th>gp</th>\n",
       "      <th>sp</th>\n",
       "    </tr>\n",
       "  </thead>\n",
       "  <tbody>\n",
       "    <tr>\n",
       "      <th>0</th>\n",
       "      <td>5c241a3926ad31868586c210</td>\n",
       "      <td>Merma en las lluvias hace que nivel del agua d...</td>\n",
       "      <td>https://trib.al/OJeExbg</td>\n",
       "      <td>ciencia y ambiente</td>\n",
       "      <td>ambiente</td>\n",
       "      <td>NaN</td>\n",
       "      <td>NaN</td>\n",
       "      <td>NaN</td>\n",
       "      <td>0.981696</td>\n",
       "      <td>0.444283</td>\n",
       "    </tr>\n",
       "    <tr>\n",
       "      <th>1</th>\n",
       "      <td>5c24a6f79e07a73612738226</td>\n",
       "      <td>Sern atendidos los fines de semana y en consul...</td>\n",
       "      <td>https://www.crhoy.com/nacionales/adelantaran-c...</td>\n",
       "      <td>política</td>\n",
       "      <td>huelga</td>\n",
       "      <td>asuntos sociales</td>\n",
       "      <td>salud</td>\n",
       "      <td>NaN</td>\n",
       "      <td>0.323443</td>\n",
       "      <td>0.699020</td>\n",
       "    </tr>\n",
       "    <tr>\n",
       "      <th>2</th>\n",
       "      <td>5c24ad589e07a736127ccc4e</td>\n",
       "      <td>Mandatario de Estados Unidos contact va telefn...</td>\n",
       "      <td>https://trib.al/HGSNxoZ</td>\n",
       "      <td>política</td>\n",
       "      <td>electorales</td>\n",
       "      <td>asuntos internacionales</td>\n",
       "      <td>EEUU</td>\n",
       "      <td>NaN</td>\n",
       "      <td>0.724155</td>\n",
       "      <td>0.399651</td>\n",
       "    </tr>\n",
       "    <tr>\n",
       "      <th>3</th>\n",
       "      <td>5bbe40665b49ed04284b9252</td>\n",
       "      <td>El accidente se dio esta madrugada</td>\n",
       "      <td>https://www.crhoy.com/nacionales/accidente-mul...</td>\n",
       "      <td>sucesos</td>\n",
       "      <td>accidente</td>\n",
       "      <td>NaN</td>\n",
       "      <td>NaN</td>\n",
       "      <td>NaN</td>\n",
       "      <td>0.997149</td>\n",
       "      <td>0.775587</td>\n",
       "    </tr>\n",
       "    <tr>\n",
       "      <th>4</th>\n",
       "      <td>5c24a4e79e07a7361270a607</td>\n",
       "      <td>Torre ha logrado enderezarse gracias al trabaj...</td>\n",
       "      <td>https://www.crhoy.com/mundo/celebre-torre-de-p...</td>\n",
       "      <td>asuntos sociales</td>\n",
       "      <td>salud</td>\n",
       "      <td>otros</td>\n",
       "      <td>curiosidades</td>\n",
       "      <td>NaN</td>\n",
       "      <td>0.088606</td>\n",
       "      <td>0.316029</td>\n",
       "    </tr>\n",
       "  </tbody>\n",
       "</table>\n",
       "</div>"
      ],
      "text/plain": [
       "                         id  \\\n",
       "0  5c241a3926ad31868586c210   \n",
       "1  5c24a6f79e07a73612738226   \n",
       "2  5c24ad589e07a736127ccc4e   \n",
       "3  5bbe40665b49ed04284b9252   \n",
       "4  5c24a4e79e07a7361270a607   \n",
       "\n",
       "                                         Texto en FB  \\\n",
       "0  Merma en las lluvias hace que nivel del agua d...   \n",
       "1  Sern atendidos los fines de semana y en consul...   \n",
       "2  Mandatario de Estados Unidos contact va telefn...   \n",
       "3                 El accidente se dio esta madrugada   \n",
       "4  Torre ha logrado enderezarse gracias al trabaj...   \n",
       "\n",
       "                                                Link        Tema General  \\\n",
       "0                            https://trib.al/OJeExbg  ciencia y ambiente   \n",
       "1  https://www.crhoy.com/nacionales/adelantaran-c...            política   \n",
       "2                            https://trib.al/HGSNxoZ            política   \n",
       "3  https://www.crhoy.com/nacionales/accidente-mul...             sucesos   \n",
       "4  https://www.crhoy.com/mundo/celebre-torre-de-p...    asuntos sociales   \n",
       "\n",
       "  Tema Específico       Corrección General Corrección Específica Unnamed: 7  \\\n",
       "0        ambiente                      NaN                   NaN        NaN   \n",
       "1          huelga      asuntos sociales                    salud        NaN   \n",
       "2     electorales  asuntos internacionales                  EEUU        NaN   \n",
       "3       accidente                      NaN                   NaN        NaN   \n",
       "4           salud                    otros          curiosidades        NaN   \n",
       "\n",
       "         gp        sp  \n",
       "0  0.981696  0.444283  \n",
       "1  0.323443  0.699020  \n",
       "2  0.724155  0.399651  \n",
       "3  0.997149  0.775587  \n",
       "4  0.088606  0.316029  "
      ]
     },
     "execution_count": 9,
     "metadata": {},
     "output_type": "execute_result"
    }
   ],
   "source": [
    "cod11 = pd.merge(cod1, tbl1, on=\"id\")\n",
    "cod11.head()"
   ]
  },
  {
   "cell_type": "code",
   "execution_count": 10,
   "metadata": {},
   "outputs": [
    {
     "name": "stdout",
     "output_type": "stream",
     "text": [
      "Cantidad sobre el umbral:  249\n",
      "Acertados sobre el umbral:  225\n",
      "Precisión: 0.90\n"
     ]
    }
   ],
   "source": [
    "total = sum(cod11[\"gp\"] > 0.7)\n",
    "acertados = sum((cod11[\"gp\"] > 0.7) & (cod11[\"Corrección General\"].isna()))\n",
    "\n",
    "print(\"Cantidad sobre el umbral: \", total)\n",
    "print(\"Acertados sobre el umbral: \", acertados)\n",
    "print(\"Precisión: %.02f\" % (acertados/total))"
   ]
  },
  {
   "cell_type": "code",
   "execution_count": 11,
   "metadata": {},
   "outputs": [
    {
     "data": {
      "image/png": "[encoded data removed]",
      "text/plain": [
       "<Figure size 432x288 with 1 Axes>"
      ]
     },
     "metadata": {
      "needs_background": "dark"
     },
     "output_type": "display_data"
    }
   ],
   "source": [
    "cod11[\"gp\"].plot.hist(bins=20)\n",
    "plt.show()"
   ]
  },
  {
   "cell_type": "code",
   "execution_count": 45,
   "metadata": {},
   "outputs": [
    {
     "data": {
      "text/html": [
       "<div>\n",
       "<style scoped>\n",
       "    .dataframe tbody tr th:only-of-type {\n",
       "        vertical-align: middle;\n",
       "    }\n",
       "\n",
       "    .dataframe tbody tr th {\n",
       "        vertical-align: top;\n",
       "    }\n",
       "\n",
       "    .dataframe thead th {\n",
       "        text-align: right;\n",
       "    }\n",
       "</style>\n",
       "<table border=\"1\" class=\"dataframe\">\n",
       "  <thead>\n",
       "    <tr style=\"text-align: right;\">\n",
       "      <th></th>\n",
       "      <th>gp</th>\n",
       "      <th>type</th>\n",
       "    </tr>\n",
       "  </thead>\n",
       "  <tbody>\n",
       "    <tr>\n",
       "      <th>0</th>\n",
       "      <td>0.981696</td>\n",
       "      <td>True</td>\n",
       "    </tr>\n",
       "    <tr>\n",
       "      <th>1</th>\n",
       "      <td>0.323443</td>\n",
       "      <td>False</td>\n",
       "    </tr>\n",
       "    <tr>\n",
       "      <th>2</th>\n",
       "      <td>0.724155</td>\n",
       "      <td>False</td>\n",
       "    </tr>\n",
       "    <tr>\n",
       "      <th>3</th>\n",
       "      <td>0.997149</td>\n",
       "      <td>True</td>\n",
       "    </tr>\n",
       "    <tr>\n",
       "      <th>4</th>\n",
       "      <td>0.088606</td>\n",
       "      <td>False</td>\n",
       "    </tr>\n",
       "  </tbody>\n",
       "</table>\n",
       "</div>"
      ],
      "text/plain": [
       "         gp   type\n",
       "0  0.981696   True\n",
       "1  0.323443  False\n",
       "2  0.724155  False\n",
       "3  0.997149   True\n",
       "4  0.088606  False"
      ]
     },
     "execution_count": 45,
     "metadata": {},
     "output_type": "execute_result"
    }
   ],
   "source": [
    "pdf = cod11[[\"gp\"]].copy()\n",
    "pdf[\"type\"] = cod11[\"Corrección Específica\"].fillna(cod11[\"Tema Específico\"]) == cod11[\"Tema Específico\"]\n",
    "pdf.head()"
   ]
  },
  {
   "cell_type": "code",
   "execution_count": 46,
   "metadata": {},
   "outputs": [
    {
     "data": {
      "image/png": "[encoded data removed]",
      "text/plain": [
       "<Figure size 432x288 with 1 Axes>"
      ]
     },
     "metadata": {
      "needs_background": "dark"
     },
     "output_type": "display_data"
    }
   ],
   "source": [
    "fig, ax = plt.subplots()\n",
    "sns.boxplot(x='type', y='gp', data=pdf)\n",
    "for line in ax.lines:\n",
    "    line.set_color(\"w\")\n",
    "for artist in ax.artists:\n",
    "    artist.set_edgecolor(\"w\")\n",
    "plt.show()"
   ]
  },
  {
   "cell_type": "code",
   "execution_count": 12,
   "metadata": {},
   "outputs": [
    {
     "data": {
      "text/plain": [
       "0    5\n",
       "1    9\n",
       "2    6\n",
       "3    0\n",
       "4    7\n",
       "Name: Corrección General, dtype: int64"
      ]
     },
     "execution_count": 12,
     "metadata": {},
     "output_type": "execute_result"
    }
   ],
   "source": [
    "correcto = cod1[\"Corrección General\"].fillna(cod1[\"Tema General\"]).apply(tema_a_num)\n",
    "predecido = cod1[\"Tema General\"].apply(tema_a_num)\n",
    "correcto.head()"
   ]
  },
  {
   "cell_type": "code",
   "execution_count": 13,
   "metadata": {},
   "outputs": [
    {
     "data": {
      "image/png": "[encoded data removed]",
      "text/plain": [
       "<Figure size 504x504 with 2 Axes>"
      ]
     },
     "metadata": {
      "needs_background": "dark"
     },
     "output_type": "display_data"
    }
   ],
   "source": [
    "from sklearn.metrics import confusion_matrix\n",
    "import seaborn as sns\n",
    "\n",
    "conf_mat = confusion_matrix(correcto, predecido)\n",
    "fig, ax = plt.subplots(figsize=(7,7))\n",
    "sns.heatmap(conf_mat, annot=True, fmt='d',\n",
    "            xticklabels=temas.TEMASG, yticklabels=temas.TEMASG)\n",
    "plt.ylabel('Actual')\n",
    "plt.xlabel('Predecido')\n",
    "plt.show()"
   ]
  },
  {
   "cell_type": "code",
   "execution_count": 14,
   "metadata": {},
   "outputs": [
    {
     "name": "stdout",
     "output_type": "stream",
     "text": [
      "\tCantidad de errores:  170\n",
      "\tCantidad total:  400\n",
      "\tTasa de errores: 0.42\n"
     ]
    }
   ],
   "source": [
    "print(\"\\tCantidad de errores: \", sum(~cod1[\"Corrección Específica\"].isna()))\n",
    "print(\"\\tCantidad total: \", len(cod1))\n",
    "print(\"\\tTasa de errores: %.02f\" % (sum(~cod1[\"Corrección Específica\"].isna())/len(cod1)))"
   ]
  },
  {
   "cell_type": "code",
   "execution_count": 15,
   "metadata": {
    "scrolled": true
   },
   "outputs": [
    {
     "data": {
      "text/html": [
       "<div>\n",
       "<style scoped>\n",
       "    .dataframe tbody tr th:only-of-type {\n",
       "        vertical-align: middle;\n",
       "    }\n",
       "\n",
       "    .dataframe tbody tr th {\n",
       "        vertical-align: top;\n",
       "    }\n",
       "\n",
       "    .dataframe thead th {\n",
       "        text-align: right;\n",
       "    }\n",
       "</style>\n",
       "<table border=\"1\" class=\"dataframe\">\n",
       "  <thead>\n",
       "    <tr style=\"text-align: right;\">\n",
       "      <th></th>\n",
       "      <th>Tema</th>\n",
       "      <th>Total</th>\n",
       "      <th>Correctos</th>\n",
       "      <th>Tasa Correctos</th>\n",
       "    </tr>\n",
       "  </thead>\n",
       "  <tbody>\n",
       "    <tr>\n",
       "      <th>0</th>\n",
       "      <td>sucesos</td>\n",
       "      <td>86</td>\n",
       "      <td>77</td>\n",
       "      <td>0.895349</td>\n",
       "    </tr>\n",
       "    <tr>\n",
       "      <th>1</th>\n",
       "      <td>infraestructura y transportes</td>\n",
       "      <td>11</td>\n",
       "      <td>4</td>\n",
       "      <td>0.363636</td>\n",
       "    </tr>\n",
       "    <tr>\n",
       "      <th>2</th>\n",
       "      <td>entretenimiento</td>\n",
       "      <td>31</td>\n",
       "      <td>24</td>\n",
       "      <td>0.774194</td>\n",
       "    </tr>\n",
       "    <tr>\n",
       "      <th>3</th>\n",
       "      <td>política</td>\n",
       "      <td>75</td>\n",
       "      <td>72</td>\n",
       "      <td>0.960000</td>\n",
       "    </tr>\n",
       "    <tr>\n",
       "      <th>4</th>\n",
       "      <td>deportes</td>\n",
       "      <td>69</td>\n",
       "      <td>67</td>\n",
       "      <td>0.971014</td>\n",
       "    </tr>\n",
       "    <tr>\n",
       "      <th>5</th>\n",
       "      <td>ciencia y ambiente</td>\n",
       "      <td>18</td>\n",
       "      <td>8</td>\n",
       "      <td>0.444444</td>\n",
       "    </tr>\n",
       "    <tr>\n",
       "      <th>6</th>\n",
       "      <td>asuntos internacionales</td>\n",
       "      <td>27</td>\n",
       "      <td>5</td>\n",
       "      <td>0.185185</td>\n",
       "    </tr>\n",
       "    <tr>\n",
       "      <th>7</th>\n",
       "      <td>otros</td>\n",
       "      <td>25</td>\n",
       "      <td>9</td>\n",
       "      <td>0.360000</td>\n",
       "    </tr>\n",
       "    <tr>\n",
       "      <th>8</th>\n",
       "      <td>economía</td>\n",
       "      <td>23</td>\n",
       "      <td>4</td>\n",
       "      <td>0.173913</td>\n",
       "    </tr>\n",
       "    <tr>\n",
       "      <th>9</th>\n",
       "      <td>asuntos sociales</td>\n",
       "      <td>35</td>\n",
       "      <td>20</td>\n",
       "      <td>0.571429</td>\n",
       "    </tr>\n",
       "  </tbody>\n",
       "</table>\n",
       "</div>"
      ],
      "text/plain": [
       "                            Tema  Total  Correctos  Tasa Correctos\n",
       "0                        sucesos     86         77        0.895349\n",
       "1  infraestructura y transportes     11          4        0.363636\n",
       "2                entretenimiento     31         24        0.774194\n",
       "3                       política     75         72        0.960000\n",
       "4                       deportes     69         67        0.971014\n",
       "5             ciencia y ambiente     18          8        0.444444\n",
       "6        asuntos internacionales     27          5        0.185185\n",
       "7                          otros     25          9        0.360000\n",
       "8                       economía     23          4        0.173913\n",
       "9               asuntos sociales     35         20        0.571429"
      ]
     },
     "execution_count": 15,
     "metadata": {},
     "output_type": "execute_result"
    }
   ],
   "source": [
    "dflist = []\n",
    "for i in range(10):\n",
    "    dflist.append({\"Tema\": temas.TEMASG[i],\n",
    "                   \"Total\": sum(correcto == i),\n",
    "                   \"Correctos\": sum((correcto == i) & (correcto == predecido)),\n",
    "                   \"Tasa Correctos\": sum((correcto == i) & (correcto == predecido))/sum(correcto == i)\n",
    "                  })\n",
    "    \n",
    "df = pd.DataFrame(dflist)[[\"Tema\", \"Total\", \"Correctos\", \"Tasa Correctos\"]]\n",
    "df"
   ]
  },
  {
   "cell_type": "code",
   "execution_count": 16,
   "metadata": {},
   "outputs": [
    {
     "data": {
      "text/plain": [
       "0     ambiente\n",
       "3    accidente\n",
       "5       futbol\n",
       "6       futbol\n",
       "7    educacion\n",
       "Name: Corrección Específica, dtype: object"
      ]
     },
     "execution_count": 16,
     "metadata": {},
     "output_type": "execute_result"
    }
   ],
   "source": [
    "correctodf = cod11[correcto == predecido]\n",
    "correcto_esp = correctodf[\"Corrección Específica\"].fillna(correctodf[\"Tema Específico\"])\n",
    "correcto_esp.head()"
   ]
  },
  {
   "cell_type": "code",
   "execution_count": 34,
   "metadata": {},
   "outputs": [
    {
     "data": {
      "text/html": [
       "<div>\n",
       "<style scoped>\n",
       "    .dataframe tbody tr th:only-of-type {\n",
       "        vertical-align: middle;\n",
       "    }\n",
       "\n",
       "    .dataframe tbody tr th {\n",
       "        vertical-align: top;\n",
       "    }\n",
       "\n",
       "    .dataframe thead th {\n",
       "        text-align: right;\n",
       "    }\n",
       "</style>\n",
       "<table border=\"1\" class=\"dataframe\">\n",
       "  <thead>\n",
       "    <tr style=\"text-align: right;\">\n",
       "      <th></th>\n",
       "      <th>Tema</th>\n",
       "      <th>Cantidad correctos</th>\n",
       "      <th>Total</th>\n",
       "      <th>Tasa</th>\n",
       "    </tr>\n",
       "  </thead>\n",
       "  <tbody>\n",
       "    <tr>\n",
       "      <th>0</th>\n",
       "      <td>sucesos</td>\n",
       "      <td>58</td>\n",
       "      <td>77</td>\n",
       "      <td>0.753247</td>\n",
       "    </tr>\n",
       "    <tr>\n",
       "      <th>1</th>\n",
       "      <td>infraestructura y transportes</td>\n",
       "      <td>4</td>\n",
       "      <td>4</td>\n",
       "      <td>1.000000</td>\n",
       "    </tr>\n",
       "    <tr>\n",
       "      <th>2</th>\n",
       "      <td>entretenimiento</td>\n",
       "      <td>21</td>\n",
       "      <td>24</td>\n",
       "      <td>0.875000</td>\n",
       "    </tr>\n",
       "    <tr>\n",
       "      <th>3</th>\n",
       "      <td>política</td>\n",
       "      <td>48</td>\n",
       "      <td>72</td>\n",
       "      <td>0.666667</td>\n",
       "    </tr>\n",
       "    <tr>\n",
       "      <th>4</th>\n",
       "      <td>deportes</td>\n",
       "      <td>60</td>\n",
       "      <td>67</td>\n",
       "      <td>0.895522</td>\n",
       "    </tr>\n",
       "    <tr>\n",
       "      <th>5</th>\n",
       "      <td>ciencia y ambiente</td>\n",
       "      <td>7</td>\n",
       "      <td>8</td>\n",
       "      <td>0.875000</td>\n",
       "    </tr>\n",
       "    <tr>\n",
       "      <th>6</th>\n",
       "      <td>asuntos internacionales</td>\n",
       "      <td>3</td>\n",
       "      <td>5</td>\n",
       "      <td>0.600000</td>\n",
       "    </tr>\n",
       "    <tr>\n",
       "      <th>7</th>\n",
       "      <td>otros</td>\n",
       "      <td>9</td>\n",
       "      <td>9</td>\n",
       "      <td>1.000000</td>\n",
       "    </tr>\n",
       "    <tr>\n",
       "      <th>8</th>\n",
       "      <td>economía</td>\n",
       "      <td>3</td>\n",
       "      <td>4</td>\n",
       "      <td>0.750000</td>\n",
       "    </tr>\n",
       "    <tr>\n",
       "      <th>9</th>\n",
       "      <td>asuntos sociales</td>\n",
       "      <td>16</td>\n",
       "      <td>20</td>\n",
       "      <td>0.800000</td>\n",
       "    </tr>\n",
       "  </tbody>\n",
       "</table>\n",
       "</div>"
      ],
      "text/plain": [
       "                            Tema  Cantidad correctos  Total      Tasa\n",
       "0                        sucesos                  58     77  0.753247\n",
       "1  infraestructura y transportes                   4      4  1.000000\n",
       "2                entretenimiento                  21     24  0.875000\n",
       "3                       política                  48     72  0.666667\n",
       "4                       deportes                  60     67  0.895522\n",
       "5             ciencia y ambiente                   7      8  0.875000\n",
       "6        asuntos internacionales                   3      5  0.600000\n",
       "7                          otros                   9      9  1.000000\n",
       "8                       economía                   3      4  0.750000\n",
       "9               asuntos sociales                  16     20  0.800000"
      ]
     },
     "execution_count": 34,
     "metadata": {},
     "output_type": "execute_result"
    }
   ],
   "source": [
    "temags = correctodf[\"Tema General\"].apply(tema_a_num)\n",
    "dflist = []\n",
    "for teman in range(10):\n",
    "    is_correct = (correctodf[temags == teman][\"Tema Específico\"] == correcto_esp[temags == teman])\n",
    "    dflist.append({\n",
    "        \"Tema\": temas.TEMASG[teman],\n",
    "        \"Cantidad correctos\": sum(is_correct),\n",
    "        \"Total\": len(is_correct),\n",
    "        \"Tasa\": sum(is_correct)/len(is_correct)\n",
    "    })\n",
    "\n",
    "pd.DataFrame(dflist)[[\"Tema\", \"Cantidad correctos\", \"Total\", \"Tasa\"]]"
   ]
  },
  {
   "cell_type": "markdown",
   "metadata": {},
   "source": []
  }
 ],
 "metadata": {
  "kernelspec": {
   "display_name": "Python 3",
   "language": "python",
   "name": "python3"
  },
  "language_info": {
   "codemirror_mode": {
    "name": "ipython",
    "version": 3
   },
   "file_extension": ".py",
   "mimetype": "text/x-python",
   "name": "python",
   "nbconvert_exporter": "python",
   "pygments_lexer": "ipython3",
   "version": "3.7.3"
  }
 },
 "nbformat": 4,
 "nbformat_minor": 2
}
